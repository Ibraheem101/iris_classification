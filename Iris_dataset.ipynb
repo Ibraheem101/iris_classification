{
 "cells": [
  {
   "cell_type": "code",
   "execution_count": 1,
   "id": "e829f9e3",
   "metadata": {},
   "outputs": [],
   "source": [
    "import numpy as np\n",
    "import pandas as pd\n",
    "import matplotlib.pyplot as plt\n",
    "import seaborn as sns"
   ]
  },
  {
   "cell_type": "code",
   "execution_count": 2,
   "id": "0d6328c0-6215-46f9-813a-271088c14701",
   "metadata": {},
   "outputs": [],
   "source": [
    "from sklearn.datasets import load_iris\n",
    "iris = load_iris()"
   ]
  },
  {
   "cell_type": "code",
   "execution_count": 3,
   "id": "9dd3df9d-72cc-4b36-a7c6-db00cb453fd9",
   "metadata": {},
   "outputs": [
    {
     "data": {
      "text/plain": [
       "['sepal length (cm)',\n",
       " 'sepal width (cm)',\n",
       " 'petal length (cm)',\n",
       " 'petal width (cm)']"
      ]
     },
     "execution_count": 3,
     "metadata": {},
     "output_type": "execute_result"
    }
   ],
   "source": [
    "iris.feature_names"
   ]
  },
  {
   "cell_type": "code",
   "execution_count": 4,
   "id": "dbe15349-3617-4cc0-ac7d-c720f15bed59",
   "metadata": {},
   "outputs": [
    {
     "data": {
      "text/plain": [
       "array(['setosa', 'versicolor', 'virginica'], dtype='<U10')"
      ]
     },
     "execution_count": 4,
     "metadata": {},
     "output_type": "execute_result"
    }
   ],
   "source": [
    "iris.target_names"
   ]
  },
  {
   "cell_type": "code",
   "execution_count": 5,
   "id": "249197ee-e5ce-4722-837a-d30430f07c0f",
   "metadata": {},
   "outputs": [],
   "source": [
    "X = iris.data\n",
    "y = iris.target"
   ]
  },
  {
   "cell_type": "code",
   "execution_count": 6,
   "id": "5b2004bd-8562-4eb9-a242-8e3a2d9fbcf5",
   "metadata": {},
   "outputs": [
    {
     "data": {
      "text/plain": [
       "(150, 4)"
      ]
     },
     "execution_count": 6,
     "metadata": {},
     "output_type": "execute_result"
    }
   ],
   "source": [
    "X.shape"
   ]
  },
  {
   "cell_type": "code",
   "execution_count": 7,
   "id": "9edf8a3d-3d79-4657-ab69-115a5c14902d",
   "metadata": {},
   "outputs": [
    {
     "data": {
      "text/plain": [
       "(150,)"
      ]
     },
     "execution_count": 7,
     "metadata": {},
     "output_type": "execute_result"
    }
   ],
   "source": [
    "y.shape"
   ]
  },
  {
   "cell_type": "code",
   "execution_count": 8,
   "id": "2a33ccf6-ea23-43a4-9d43-54b01ac4c1e3",
   "metadata": {},
   "outputs": [
    {
     "data": {
      "text/plain": [
       "array([0, 0, 0, 0, 0, 0, 0, 0, 0, 0, 0, 0, 0, 0, 0, 0, 0, 0, 0, 0, 0, 0,\n",
       "       0, 0, 0, 0, 0, 0, 0, 0, 0, 0, 0, 0, 0, 0, 0, 0, 0, 0, 0, 0, 0, 0,\n",
       "       0, 0, 0, 0, 0, 0, 1, 1, 1, 1, 1, 1, 1, 1, 1, 1, 1, 1, 1, 1, 1, 1,\n",
       "       1, 1, 1, 1, 1, 1, 1, 1, 1, 1, 1, 1, 1, 1, 1, 1, 1, 1, 1, 1, 1, 1,\n",
       "       1, 1, 1, 1, 1, 1, 1, 1, 1, 1, 1, 1, 2, 2, 2, 2, 2, 2, 2, 2, 2, 2,\n",
       "       2, 2, 2, 2, 2, 2, 2, 2, 2, 2, 2, 2, 2, 2, 2, 2, 2, 2, 2, 2, 2, 2,\n",
       "       2, 2, 2, 2, 2, 2, 2, 2, 2, 2, 2, 2, 2, 2, 2, 2, 2, 2])"
      ]
     },
     "execution_count": 8,
     "metadata": {},
     "output_type": "execute_result"
    }
   ],
   "source": [
    "y"
   ]
  },
  {
   "cell_type": "markdown",
   "id": "5f265d71-5028-46fb-93fa-9432a9bae845",
   "metadata": {},
   "source": [
    "On their own, logistic regressions are only binary classifiers, meaning they cannot\n",
    "handle target vectors with more than two classes. However, two clever extensions to\n",
    "logistic regression do just that. First, in one-vs-rest logistic regression (OVR) a sepa‐\n",
    "rate model is trained for each class predicted whether an observation is that class or\n",
    "not (thus making it a binary classification problem). It assumes that each classifica‐\n",
    "tion problem (e.g., class 0 or not) is independent."
   ]
  },
  {
   "cell_type": "code",
   "execution_count": 9,
   "id": "1239df19-3ddc-4037-8472-620fa44bd345",
   "metadata": {},
   "outputs": [],
   "source": [
    "def train_test_split(X, y, test_size):\n",
    "    shuffled_indices = np.random.permutation(len(X))\n",
    "    len_test_indices = int(test_size * len(X))\n",
    "    len_train_indices = len(X) - len_test_indices\n",
    "    test_indices = shuffled_indices[:len_test_indices]\n",
    "    train_indices = shuffled_indices[len_test_indices:]\n",
    "    train_X = X[train_indices]\n",
    "    train_y = y[train_indices]\n",
    "    test_X = X[test_indices]\n",
    "    test_y = y[test_indices]\n",
    "    return train_X, train_y, test_X, test_y"
   ]
  },
  {
   "cell_type": "code",
   "execution_count": 10,
   "id": "aa6b95e7-844b-45a1-b5dd-45d135749dce",
   "metadata": {},
   "outputs": [],
   "source": [
    "X_train, y_train, X_test, y_test = train_test_split(X, y, 0.2)"
   ]
  },
  {
   "cell_type": "code",
   "execution_count": 11,
   "id": "4adc06e3-c5f8-45a4-8fc2-9fb081ac3904",
   "metadata": {},
   "outputs": [
    {
     "data": {
      "text/plain": [
       "(120, 4)"
      ]
     },
     "execution_count": 11,
     "metadata": {},
     "output_type": "execute_result"
    }
   ],
   "source": [
    "X_train.shape"
   ]
  },
  {
   "cell_type": "markdown",
   "id": "b92082d3-4899-48e6-b416-5a93dedbc8e4",
   "metadata": {},
   "source": [
    "### Feature Scaling"
   ]
  },
  {
   "cell_type": "code",
   "execution_count": 12,
   "id": "bdfc98e2-c7dd-487f-ba05-6d234c391012",
   "metadata": {},
   "outputs": [],
   "source": [
    "from sklearn.preprocessing import StandardScaler\n",
    "scaler = StandardScaler()\n",
    "X_train_scaled = scaler.fit_transform(X_train)\n",
    "X_test_scaled = scaler.transform(X_test)"
   ]
  },
  {
   "cell_type": "markdown",
   "id": "a24d4e02-cb77-4b47-8be1-c40880b267fc",
   "metadata": {},
   "source": [
    "### Modeling"
   ]
  },
  {
   "cell_type": "markdown",
   "id": "576403e5-0a08-4f23-9c7e-5b010c846a2b",
   "metadata": {
    "tags": []
   },
   "source": [
    "#### Logistic Regression"
   ]
  },
  {
   "cell_type": "code",
   "execution_count": 13,
   "id": "2f1555ba-2e11-4460-ad7b-9afe84aa2c4f",
   "metadata": {},
   "outputs": [],
   "source": [
    "from sklearn.linear_model import LogisticRegression"
   ]
  },
  {
   "cell_type": "code",
   "execution_count": 14,
   "id": "aeeb55a5-4c39-4d14-8e3c-d462011200ce",
   "metadata": {},
   "outputs": [],
   "source": [
    "lgr = LogisticRegression(random_state=0, multi_class=\"ovr\")\n",
    "lgr.fit(X_train, y_train)\n",
    "y_lgr = lgr.predict(X_test)"
   ]
  },
  {
   "cell_type": "code",
   "execution_count": 15,
   "id": "d1b8846f-8904-45f1-9361-eaab6e005e15",
   "metadata": {},
   "outputs": [
    {
     "data": {
      "text/plain": [
       "0.9666666666666667"
      ]
     },
     "execution_count": 15,
     "metadata": {},
     "output_type": "execute_result"
    }
   ],
   "source": [
    "lgr.score(X_test, y_test)"
   ]
  },
  {
   "cell_type": "code",
   "execution_count": 16,
   "id": "bca80252-31b3-4767-8ff0-766efbbc7873",
   "metadata": {},
   "outputs": [
    {
     "data": {
      "text/plain": [
       "(1, 1)"
      ]
     },
     "execution_count": 16,
     "metadata": {},
     "output_type": "execute_result"
    }
   ],
   "source": [
    "y_test[5], y_lgr[5]"
   ]
  },
  {
   "cell_type": "markdown",
   "id": "39464df2-7223-4e51-997a-47ceef4c214c",
   "metadata": {},
   "source": [
    "##### Confusion Matrix\n",
    "From the confusion Matrix, we can derive efficient performace measures"
   ]
  },
  {
   "cell_type": "code",
   "execution_count": 17,
   "id": "cf7984f6-a795-4a13-9078-7d55ac3a2af1",
   "metadata": {},
   "outputs": [],
   "source": [
    "from sklearn.metrics import confusion_matrix"
   ]
  },
  {
   "cell_type": "code",
   "execution_count": 18,
   "id": "cb4af5f2-7dc5-453d-bdcd-47dd90612a7c",
   "metadata": {},
   "outputs": [],
   "source": [
    "def confusion_mat(y):\n",
    "    return confusion_matrix(y_true = y_test, y_pred = y)"
   ]
  },
  {
   "cell_type": "code",
   "execution_count": 19,
   "id": "9aac739f-74de-4915-a679-92b218d731bb",
   "metadata": {},
   "outputs": [
    {
     "data": {
      "text/plain": [
       "array([[11,  0,  0],\n",
       "       [ 0,  6,  1],\n",
       "       [ 0,  0, 12]], dtype=int64)"
      ]
     },
     "execution_count": 19,
     "metadata": {},
     "output_type": "execute_result"
    }
   ],
   "source": [
    "confusion_mat(y_lgr)"
   ]
  },
  {
   "cell_type": "code",
   "execution_count": 20,
   "id": "a7624b8b-fff6-48e7-a726-8ba61d977d55",
   "metadata": {},
   "outputs": [],
   "source": [
    "def conf_mat_heatmap(y):\n",
    "    plt.figure(figsize = (15, 10))\n",
    "    sns.heatmap(data = confusion_mat(y), annot = True, xticklabels = iris.target_names, yticklabels = iris.target_names)\n",
    "    plt.title('Confusion Matrix')"
   ]
  },
  {
   "cell_type": "code",
   "execution_count": 21,
   "id": "8d3082d1-2364-4a64-93db-82bc43fd4e47",
   "metadata": {},
   "outputs": [
    {
     "data": {
      "image/png": "[encoded data removed]",
      "text/plain": [
       "<Figure size 1080x720 with 2 Axes>"
      ]
     },
     "metadata": {
      "needs_background": "light"
     },
     "output_type": "display_data"
    }
   ],
   "source": [
    "conf_mat_heatmap(y_lgr)"
   ]
  },
  {
   "cell_type": "code",
   "execution_count": 22,
   "id": "667bcbbd-8bd9-4c91-a9da-ef054b6a69e1",
   "metadata": {},
   "outputs": [],
   "source": [
    "from sklearn.metrics import classification_report"
   ]
  },
  {
   "cell_type": "code",
   "execution_count": 23,
   "id": "6c2c2214-d964-4dce-bfec-483aa783745b",
   "metadata": {},
   "outputs": [],
   "source": [
    "def classification_rep(y):\n",
    "    print(classification_report(y_test, y, target_names = iris.target_names))"
   ]
  },
  {
   "cell_type": "code",
   "execution_count": 24,
   "id": "91943156-2296-47e0-afb3-18373af1fb96",
   "metadata": {},
   "outputs": [
    {
     "name": "stdout",
     "output_type": "stream",
     "text": [
      "              precision    recall  f1-score   support\n",
      "\n",
      "      setosa       1.00      1.00      1.00        11\n",
      "  versicolor       1.00      0.86      0.92         7\n",
      "   virginica       0.92      1.00      0.96        12\n",
      "\n",
      "    accuracy                           0.97        30\n",
      "   macro avg       0.97      0.95      0.96        30\n",
      "weighted avg       0.97      0.97      0.97        30\n",
      "\n"
     ]
    }
   ],
   "source": [
    "classification_rep(y_lgr)"
   ]
  },
  {
   "cell_type": "markdown",
   "id": "d369c6ec-0e30-4a54-ad0b-0940abb8ee3e",
   "metadata": {},
   "source": [
    "### RandomForestClassifier"
   ]
  },
  {
   "cell_type": "code",
   "execution_count": 25,
   "id": "4bfba1a8-e4e2-4025-be59-bd3d349deac5",
   "metadata": {},
   "outputs": [],
   "source": [
    "from sklearn.ensemble import RandomForestClassifier"
   ]
  },
  {
   "cell_type": "code",
   "execution_count": 26,
   "id": "b379fbc8-c407-42aa-8203-124c5b2e1e80",
   "metadata": {},
   "outputs": [],
   "source": [
    "rfc = RandomForestClassifier()\n",
    "rfc.fit(X_train, y_train)\n",
    "y_rfc = rfc.predict(X_test)"
   ]
  },
  {
   "cell_type": "code",
   "execution_count": 27,
   "id": "ecac667b-43db-4663-a239-6e34cd53b68e",
   "metadata": {},
   "outputs": [
    {
     "data": {
      "text/plain": [
       "array([[11,  0,  0],\n",
       "       [ 0,  7,  0],\n",
       "       [ 0,  1, 11]], dtype=int64)"
      ]
     },
     "execution_count": 27,
     "metadata": {},
     "output_type": "execute_result"
    }
   ],
   "source": [
    "confusion_mat(y_rfc)"
   ]
  },
  {
   "cell_type": "code",
   "execution_count": 28,
   "id": "93e1a9b8-1df2-4919-b634-3f1bf2f64140",
   "metadata": {},
   "outputs": [
    {
     "data": {
      "image/png": "[encoded data removed]",
      "text/plain": [
       "<Figure size 1080x720 with 2 Axes>"
      ]
     },
     "metadata": {
      "needs_background": "light"
     },
     "output_type": "display_data"
    }
   ],
   "source": [
    "conf_mat_heatmap(y_rfc)"
   ]
  },
  {
   "cell_type": "code",
   "execution_count": 29,
   "id": "432e2666-cc41-4b13-903f-3dcc4630194c",
   "metadata": {},
   "outputs": [
    {
     "name": "stdout",
     "output_type": "stream",
     "text": [
      "              precision    recall  f1-score   support\n",
      "\n",
      "      setosa       1.00      1.00      1.00        11\n",
      "  versicolor       0.88      1.00      0.93         7\n",
      "   virginica       1.00      0.92      0.96        12\n",
      "\n",
      "    accuracy                           0.97        30\n",
      "   macro avg       0.96      0.97      0.96        30\n",
      "weighted avg       0.97      0.97      0.97        30\n",
      "\n"
     ]
    }
   ],
   "source": [
    "classification_rep(y_rfc)"
   ]
  },
  {
   "cell_type": "markdown",
   "id": "20b9f082-cdca-47d6-8211-6639c17d3e77",
   "metadata": {},
   "source": [
    "The Random Forest Classifier did a better job"
   ]
  },
  {
   "cell_type": "markdown",
   "id": "86c3632c-e90e-4a27-b141-82db29a53a49",
   "metadata": {},
   "source": [
    "The methods of Cross Validation and Regularization can also be applied to reduce overfitting"
   ]
  },
  {
   "cell_type": "code",
   "execution_count": 30,
   "id": "34ce2f81-ca2d-47d7-9c3b-085bd65fe6b8",
   "metadata": {},
   "outputs": [],
   "source": [
    "from sklearn.linear_model import LogisticRegressionCV"
   ]
  },
  {
   "cell_type": "code",
   "execution_count": 31,
   "id": "78f1fe54-3a6e-4520-9b5d-f11368de0ae6",
   "metadata": {},
   "outputs": [],
   "source": [
    "lgrcv = LogisticRegressionCV(penalty='l2', Cs=10, random_state=0, n_jobs=-1)\n",
    "lgrcv.fit(X_train, y_train)\n",
    "y_lgrcv = lgrcv.predict(X_test)"
   ]
  },
  {
   "cell_type": "code",
   "execution_count": 32,
   "id": "d31903ca-cb7c-43f6-a975-8f37e169cb02",
   "metadata": {},
   "outputs": [
    {
     "data": {
      "text/plain": [
       "array([[11,  0,  0],\n",
       "       [ 0,  7,  0],\n",
       "       [ 0,  0, 12]], dtype=int64)"
      ]
     },
     "execution_count": 32,
     "metadata": {},
     "output_type": "execute_result"
    }
   ],
   "source": [
    "confusion_mat(y_lgrcv)"
   ]
  },
  {
   "cell_type": "code",
   "execution_count": null,
   "id": "7475af5d-668e-4b5e-b83d-f252a668c3c6",
   "metadata": {},
   "outputs": [],
   "source": []
  }
 ],
 "metadata": {
  "kernelspec": {
   "display_name": "Python 3 (ipykernel)",
   "language": "python",
   "name": "python3"
  },
  "language_info": {
   "codemirror_mode": {
    "name": "ipython",
    "version": 3
   },
   "file_extension": ".py",
   "mimetype": "text/x-python",
   "name": "python",
   "nbconvert_exporter": "python",
   "pygments_lexer": "ipython3",
   "version": "3.9.7"
  }
 },
 "nbformat": 4,
 "nbformat_minor": 5
}
